{
 "cells": [
  {
   "cell_type": "markdown",
   "metadata": {},
   "source": [
    "# Checking the accuracy"
   ]
  },
  {
   "cell_type": "code",
   "execution_count": null,
   "metadata": {},
   "outputs": [],
   "source": [
    "import json\n",
    "from tqdm import tqdm\n",
    "result_list = []\n",
    "\n",
    "METHOD = \"spacecue\"\n",
    "FIELD = \"Math\"\n",
    "MODEL = \"gpt\"\n",
    "\n",
    "# path of the result\n",
    "path = f\"../results/{METHOD}/{FIELD}_validation_{MODEL}.jsonl\"\n",
    "# counter\n",
    "count, corr = 0, 0\n",
    "with open(path, \"r\") as f:\n",
    "    for idx, l in tqdm(enumerate(f)):\n",
    "        data = json.loads(l)\n",
    "        answer = data['correct_answer']\n",
    "        gpt_answer = json.loads(data['gpt_answer'])['selection']\n",
    "        count += 1\n",
    "        corr += (answer == gpt_answer)\n",
    "        result_list.append(gpt_answer)\n",
    "\n",
    "print(f\"Accuracy os {corr/count * 100:.2f}%\")\n",
    "print(f\"corr: {corr}, count: {count}\")\n"
   ]
  }
 ],
 "metadata": {
  "kernelspec": {
   "display_name": "cs224n",
   "language": "python",
   "name": "python3"
  },
  "language_info": {
   "codemirror_mode": {
    "name": "ipython",
    "version": 3
   },
   "file_extension": ".py",
   "mimetype": "text/x-python",
   "name": "python",
   "nbconvert_exporter": "python",
   "pygments_lexer": "ipython3",
   "version": "3.10.12"
  }
 },
 "nbformat": 4,
 "nbformat_minor": 2
}
